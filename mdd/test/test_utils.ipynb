{
 "cells": [
  {
   "cell_type": "code",
   "execution_count": 0,
   "metadata": {
    "application/vnd.databricks.v1+cell": {
     "cellMetadata": {
      "byteLimit": 2048000,
      "rowLimit": 10000
     },
     "inputWidgets": {},
     "nuid": "ea2e5f42-ac48-461b-8941-371a52b6f422",
     "showTitle": false,
     "tableResultSettingsMap": {},
     "title": ""
    }
   },
   "outputs": [],
   "source": [
    "%load_ext autoreload\n",
    "%autoreload 2\n",
    "import logging\n",
    "from mdd.utils import DecoratorUtil\n",
    "\n",
    "@DecoratorUtil.add_logger()\n",
    "class MyClass:\n",
    "    logger: logging.Logger\n",
    "    def __init__(self):\n",
    "        self.debug = True\n",
    "\n",
    "    @DecoratorUtil.log_function()\n",
    "    def bar(self):\n",
    "        pass\n",
    "    \n",
    "    @DecoratorUtil.log_function()\n",
    "    def foo(self):\n",
    "        self.bar()\n",
    "        self.logger.info(\"this is me\")\n",
    "\n",
    "\n",
    "import logging\n",
    "import datetime\n",
    "from mdd.logger import *\n",
    "\n",
    "log_folder = \"mdd_test\"\n",
    "log_file_name = \"test_decorator\"\n",
    "log_timestamp = datetime.datetime.now()\n",
    "debug = False\n",
    "\n",
    "Logger.init(log_folder, log_file_name, log_timestamp, debug)\n",
    "\n",
    "\n",
    "MyClass().foo()\n"
   ]
  },
  {
   "cell_type": "code",
   "execution_count": 0,
   "metadata": {
    "application/vnd.databricks.v1+cell": {
     "cellMetadata": {
      "byteLimit": 2048000,
      "rowLimit": 10000
     },
     "inputWidgets": {},
     "nuid": "10a093bb-a8c5-4b5f-91f6-71de14a51cf1",
     "showTitle": false,
     "tableResultSettingsMap": {},
     "title": ""
    }
   },
   "outputs": [],
   "source": [
    "%load_ext autoreload\n",
    "%autoreload 2\n",
    "import logging\n",
    "import datetime\n",
    "from mdd.logger import *\n",
    "from mdd.metadata import Metadata\n",
    "from mdd.utils import DeltaTableUtil\n",
    "\n",
    "log_folder = \"mdd_test\"\n",
    "log_file_name = \"test_helper_deltatable\"\n",
    "log_timestamp = datetime.datetime.now()\n",
    "debug = False\n",
    "\n",
    "Logger.init(log_folder, log_file_name, log_timestamp, debug)\n",
    "\n",
    "metadata_yml = \"onboard/bronze_paytronix_mid352_combinedcards.yml\"\n",
    "sink_name = \"bronze.paytronix_mid352_combinedcards\"\n",
    "metadata = Metadata(metadata_yml, True)\n",
    "corrupt_record = metadata.get(\"reader\", \"_corrupt_record\") \n",
    "rescued_data = metadata.get(\"reader\", \"_rescued_data\") \n",
    "DeltaTableUtil.ensure_system_columns(spark, sink_name, corrupt_record, rescued_data, False)"
   ]
  },
  {
   "cell_type": "code",
   "execution_count": 0,
   "metadata": {
    "application/vnd.databricks.v1+cell": {
     "cellMetadata": {
      "byteLimit": 2048000,
      "rowLimit": 10000
     },
     "inputWidgets": {},
     "nuid": "0fb0753e-9461-4b57-8412-c5dc299b0809",
     "showTitle": false,
     "tableResultSettingsMap": {},
     "title": ""
    }
   },
   "outputs": [],
   "source": [
    "%%sql\n",
    "use catalog lakehouse;\n",
    "\n",
    "select * from bronze.paytronix_mid352_combinedcards;"
   ]
  },
  {
   "cell_type": "code",
   "execution_count": 0,
   "metadata": {
    "application/vnd.databricks.v1+cell": {
     "cellMetadata": {
      "byteLimit": 2048000,
      "rowLimit": 10000
     },
     "inputWidgets": {},
     "nuid": "92de55e3-e5fc-4483-a881-e623a6dbd73e",
     "showTitle": false,
     "tableResultSettingsMap": {},
     "title": ""
    }
   },
   "outputs": [],
   "source": [
    "%load_ext autoreload\n",
    "%autoreload 2\n",
    "from mdd.utils import DeltaTableUtil\n",
    "max_source_commit_version = DeltaTableUtil.get_max_column_value(spark,\n",
    "                            \"mdd.table_control\",\n",
    "                            \"source_commit_version\",\n",
    "                            f\"table_name = 'gold.fact_combinedcards' and source_name = 'bronze.paytronix_mid352_combinedcards'\")\n",
    "\n",
    "print(max_source_commit_version)"
   ]
  },
  {
   "cell_type": "code",
   "execution_count": 0,
   "metadata": {
    "application/vnd.databricks.v1+cell": {
     "cellMetadata": {
      "byteLimit": 2048000,
      "rowLimit": 10000
     },
     "inputWidgets": {},
     "nuid": "cfe318b3-69d3-4f2f-9c66-8f7a50c6915d",
     "showTitle": false,
     "tableResultSettingsMap": {},
     "title": ""
    }
   },
   "outputs": [],
   "source": [
    "table_name = \"gold.fact_combinedcards\"\n",
    "DeltaTableUtil.qualify_table_name(table_name)"
   ]
  }
 ],
 "metadata": {
  "application/vnd.databricks.v1+notebook": {
   "computePreferences": null,
   "dashboards": [],
   "environmentMetadata": {
    "base_environment": "",
    "environment_version": "2"
   },
   "inputWidgetPreferences": null,
   "language": "python",
   "notebookMetadata": {
    "pythonIndentUnit": 4
   },
   "notebookName": "test_utils",
   "widgets": {}
  },
  "language_info": {
   "name": "python"
  }
 },
 "nbformat": 4,
 "nbformat_minor": 0
}
