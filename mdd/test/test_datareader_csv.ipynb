{
 "cells": [
  {
   "cell_type": "code",
   "execution_count": 0,
   "metadata": {
    "application/vnd.databricks.v1+cell": {
     "cellMetadata": {
      "byteLimit": 2048000,
      "rowLimit": 10000
     },
     "inputWidgets": {},
     "nuid": "869657cf-337c-45e2-af50-0576de1b1d02",
     "showTitle": false,
     "tableResultSettingsMap": {},
     "title": ""
    }
   },
   "outputs": [],
   "source": [
    "from mdd.logger import Logger\n",
    "import logging\n",
    "import datetime\n",
    "\n",
    "log_folder = \"mdd_test\"\n",
    "log_file_name = \"test_datareader\"\n",
    "log_timestamp = datetime.datetime.now()\n",
    "debug = False\n",
    "Logger.init(log_folder, log_file_name, log_timestamp, debug)"
   ]
  },
  {
   "cell_type": "code",
   "execution_count": 0,
   "metadata": {
    "application/vnd.databricks.v1+cell": {
     "cellMetadata": {
      "byteLimit": 2048000,
      "rowLimit": 10000
     },
     "inputWidgets": {},
     "nuid": "63731040-90b2-44bd-bd1f-e027225d2e8a",
     "showTitle": false,
     "tableResultSettingsMap": {},
     "title": ""
    }
   },
   "outputs": [],
   "source": [
    "config = {\n",
    "    \"sink_name\": \"bronze.paytronix_mid352_combinedcards\",\n",
    "    \"source_format\": \"cloudFiles\",\n",
    "    \"source_relative_path\": \"paytronix/\",\n",
    "    \"source_options\": {\n",
    "        \"cloudFiles.format\": \"csv\",  # avro, binaryFile, csv, json, orc, parquet, text, xml\n",
    "        \"cloudFiles.schemaLocation\": \"loc1\",\n",
    "        \"cloudFiles.maxFilesPerTrigger\": 1000,\n",
    "        \"cloudFiles.includeExistingFiles\": \"true\",\n",
    "        \"cloudFiles.schemaEvolutionMode\": \"rescue\",\n",
    "        \"rescuedDataColumn\": \"_rescued_data\",\n",
    "        \"pathGlobFilter\": \"*MID352_CombinedCards_*.csv\",\n",
    "        \"skipRows\": 2,\n",
    "        \"header\": False,\n",
    "        \"ignoreLeadingWhiteSpace\": True,\n",
    "        \"ignoreTrailingWhiteSpace\": True\n",
    "    },\n",
    "    \"source_schema\": \"\"\"\n",
    "        combine_datetime timestamp\n",
    "        ,primary_card_number string\n",
    "        ,added_card_number string\n",
    "        ,card_template string\n",
    "        ,current_account_status string\n",
    "        ,no_cards_in_account int\n",
    "        ,email string\n",
    "        ,surviving_account_number string\n",
    "        ,abandoned_account_number string\n",
    "        ,account_code string\n",
    "    \"\"\"\n",
    "}\n"
   ]
  },
  {
   "cell_type": "code",
   "execution_count": 0,
   "metadata": {
    "application/vnd.databricks.v1+cell": {
     "cellMetadata": {
      "byteLimit": 2048000,
      "rowLimit": 10000
     },
     "inputWidgets": {},
     "nuid": "be52defc-8529-4dcf-83aa-7be3cb87655e",
     "showTitle": false,
     "tableResultSettingsMap": {},
     "title": ""
    }
   },
   "outputs": [],
   "source": [
    "%load_ext autoreload\n",
    "%autoreload 2\n",
    "\n",
    "from mdd.datareader import AutoLoaderReader\n",
    "\n",
    "try:\n",
    "    reader = AutoLoaderReader(\n",
    "        spark, \n",
    "        config,\n",
    "        debug\n",
    "    )\n",
    "    df = reader.read_stream()\n",
    "\n",
    "except Exception as e:\n",
    "    print(e)\n",
    "    raise e\n",
    "\n",
    "finally:\n",
    "    logging.shutdown()"
   ]
  },
  {
   "cell_type": "code",
   "execution_count": 0,
   "metadata": {
    "application/vnd.databricks.v1+cell": {
     "cellMetadata": {
      "byteLimit": 2048000,
      "rowLimit": 10000
     },
     "inputWidgets": {},
     "nuid": "1acdcb5a-39e1-4950-994a-8545e6ebd052",
     "showTitle": false,
     "tableResultSettingsMap": {},
     "title": ""
    }
   },
   "outputs": [],
   "source": [
    "display(df)"
   ]
  }
 ],
 "metadata": {
  "application/vnd.databricks.v1+notebook": {
   "computePreferences": null,
   "dashboards": [],
   "environmentMetadata": {
    "base_environment": "",
    "environment_version": "2"
   },
   "inputWidgetPreferences": null,
   "language": "python",
   "notebookMetadata": {
    "mostRecentlyExecutedCommandWithImplicitDF": {
     "commandId": 8267367307683011,
     "dataframes": [
      "_sqldf"
     ]
    },
    "pythonIndentUnit": 4
   },
   "notebookName": "test_datareader_csv",
   "widgets": {}
  },
  "language_info": {
   "name": "python"
  }
 },
 "nbformat": 4,
 "nbformat_minor": 0
}
