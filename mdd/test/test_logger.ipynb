{
 "cells": [
  {
   "cell_type": "code",
   "execution_count": 0,
   "metadata": {
    "application/vnd.databricks.v1+cell": {
     "cellMetadata": {
      "byteLimit": 2048000,
      "rowLimit": 10000
     },
     "inputWidgets": {},
     "nuid": "e1873e24-3a82-4a21-85a0-a451d28238c3",
     "showTitle": false,
     "tableResultSettingsMap": {},
     "title": ""
    }
   },
   "outputs": [],
   "source": [
    "%load_ext autoreload\n",
    "%autoreload 2\n",
    "\n",
    "import logging\n",
    "import datetime\n",
    "from mdd.logger import *\n",
    "\n",
    "log_folder = \"mdd_test\"\n",
    "log_file_name = \"test_logger\"\n",
    "log_timestamp = datetime.datetime.now()\n",
    "debug = False\n",
    "\n",
    "Logger.init(log_folder, log_file_name, log_timestamp, debug)\n",
    "\n",
    "logger = logging.getLogger(\"mdd_test\")\n",
    "logger.info(\"This is a info test log\")\n",
    "logger.warning(\"This is a warning test log\")\n",
    "logger.error(\"This is a error test log\")\n",
    "logger.critical(\"This is a critical test log\")\n",
    "\n",
    "logging.shutdown()"
   ]
  }
 ],
 "metadata": {
  "application/vnd.databricks.v1+notebook": {
   "computePreferences": null,
   "dashboards": [],
   "environmentMetadata": {
    "base_environment": "",
    "environment_version": "2"
   },
   "inputWidgetPreferences": null,
   "language": "python",
   "notebookMetadata": {
    "pythonIndentUnit": 4
   },
   "notebookName": "test_logger",
   "widgets": {}
  },
  "language_info": {
   "name": "python"
  }
 },
 "nbformat": 4,
 "nbformat_minor": 0
}
