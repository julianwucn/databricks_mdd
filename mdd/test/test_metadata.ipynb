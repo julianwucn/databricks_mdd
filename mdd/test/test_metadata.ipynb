{
 "cells": [
  {
   "cell_type": "code",
   "execution_count": 0,
   "metadata": {
    "application/vnd.databricks.v1+cell": {
     "cellMetadata": {
      "byteLimit": 2048000,
      "rowLimit": 10000
     },
     "inputWidgets": {},
     "nuid": "e451999d-da51-4a52-9bb4-f01f6d4be72c",
     "showTitle": false,
     "tableResultSettingsMap": {},
     "title": ""
    }
   },
   "outputs": [],
   "source": [
    "from mdd.logger import Logger\n",
    "import logging\n",
    "import datetime\n",
    "\n",
    "log_folder = \"mdd_test\"\n",
    "log_file_name = \"test_datareader\"\n",
    "log_timestamp = datetime.datetime.now()\n",
    "debug = False\n",
    "\n",
    "Logger.init(log_folder, log_file_name, log_timestamp, debug)"
   ]
  },
  {
   "cell_type": "code",
   "execution_count": 0,
   "metadata": {
    "application/vnd.databricks.v1+cell": {
     "cellMetadata": {
      "byteLimit": 2048000,
      "rowLimit": 10000
     },
     "inputWidgets": {},
     "nuid": "b4735d88-83e7-4d4c-a824-192355d6eb45",
     "showTitle": false,
     "tableResultSettingsMap": {},
     "title": ""
    }
   },
   "outputs": [],
   "source": [
    "%load_ext autoreload\n",
    "%autoreload 2\n",
    "\n",
    "import logging\n",
    "import yaml\n",
    "from mdd.metadata import Metadata\n",
    "\n",
    "try:\n",
    "    metadata_yml = \"onboard/bronze_paytronix_mid352_combinedcards.yml\"\n",
    "    metadata = Metadata(metadata_yml, True)\n",
    "\n",
    "    #print(metadata.as_dict())  # → full config as dict\n",
    "    print(metadata.get(\"dataflow_type\"))\n",
    "    print(metadata.get(\"reader\", \"source_format\"))\n",
    "    print(metadata.get(\"reader\", \"source_options\"))\n",
    "    print(metadata.get(\"validators\"))\n",
    "    #print(metadata.get())\n",
    "\n",
    "finally:\n",
    "    logging.shutdown()"
   ]
  }
 ],
 "metadata": {
  "application/vnd.databricks.v1+notebook": {
   "computePreferences": null,
   "dashboards": [],
   "environmentMetadata": {
    "base_environment": "",
    "environment_version": "2"
   },
   "inputWidgetPreferences": null,
   "language": "python",
   "notebookMetadata": {
    "pythonIndentUnit": 4
   },
   "notebookName": "test_metadata",
   "widgets": {}
  },
  "language_info": {
   "name": "python"
  }
 },
 "nbformat": 4,
 "nbformat_minor": 0
}
