{
 "cells": [
  {
   "cell_type": "code",
   "execution_count": 0,
   "metadata": {
    "application/vnd.databricks.v1+cell": {
     "cellMetadata": {
      "byteLimit": 2048000,
      "rowLimit": 10000
     },
     "inputWidgets": {},
     "nuid": "869657cf-337c-45e2-af50-0576de1b1d02",
     "showTitle": false,
     "tableResultSettingsMap": {},
     "title": ""
    }
   },
   "outputs": [],
   "source": [
    "%load_ext autoreload\n",
    "%autoreload 2\n",
    "\n",
    "from mdd.logger import Logger\n",
    "import logging\n",
    "import datetime\n",
    "from mdd.environment import Environment\n",
    "from mdd.datareader import AutoLoaderReader\n",
    "from mdd.datawriter import DeltaTableWriter\n",
    "\n",
    "log_folder = \"mdd_test\"\n",
    "log_file_name = \"test_datareader\"\n",
    "log_timestamp = datetime.datetime.now()\n",
    "debug = False\n",
    "Logger.init(log_folder, log_file_name, log_timestamp, debug)\n",
    "\n",
    "debug = True\n",
    "config_reader = {\n",
    "    \"sink_name\": \"bronze.paytronix_mid352_combinedcards\",\n",
    "    \"source_format\": \"cloudFiles\",\n",
    "    \"source_relative_path\": \"paytronix/\",\n",
    "    \"source_options\": {\n",
    "        \"cloudFiles.format\": \"csv\",  # avro, binaryFile, csv, json, orc, parquet, text, xml\n",
    "        \"cloudFiles.schemaLocation\": \"loc1\",\n",
    "        \"cloudFiles.maxFilesPerTrigger\": 1000,\n",
    "        \"cloudFiles.includeExistingFiles\": \"true\",\n",
    "        \"cloudFiles.schemaEvolutionMode\": \"rescue\",\n",
    "        \"rescuedDataColumn\": \"_rescued_data\",\n",
    "        \"pathGlobFilter\": \"*MID352_CombinedCards_*.csv\",\n",
    "        \"skipRows\": 2,\n",
    "        \"header\": False,\n",
    "        \"ignoreLeadingWhiteSpace\": True,\n",
    "        \"ignoreTrailingWhiteSpace\": True,\n",
    "    },\n",
    "    \"source_schema\": \"\"\"\n",
    "        combine_datetime timestamp\n",
    "        ,primary_card_number string\n",
    "        ,added_card_number string\n",
    "        ,card_template string\n",
    "        ,current_account_status string\n",
    "        ,no_cards_in_account int\n",
    "        ,email string\n",
    "        ,surviving_account_number string\n",
    "        ,abandoned_account_number string\n",
    "        ,account_code string\n",
    "    \"\"\",\n",
    "}\n",
    "\n",
    "# read\n",
    "reader = AutoLoaderReader(spark, config_reader, debug)\n",
    "df = reader.read_stream()\n",
    "\n",
    "\n",
    "config_writer = {\n",
    "    \"sink_name\": \"bronze.paytronix_mid352_combinedcards\",\n",
    "    \"sink_projected_script\": None,\n",
    "    \"sink_write_mode\": \"append\",  # append, update (complete is not supported)\n",
    "    \"sink_primarykey\": \"combine_datetime, primary_card_number, added_card_number\",  # mandatory for update mode\n",
    "    \"sink_watermark_column\": None,\n",
    "    \"sink_update_changes_only\": False,\n",
    "    \"sink_write_options\": {\n",
    "        \"mergeSchema\": False,\n",
    "        \"checkpointLocation\": \"loc1\"  # use different numbers if have multiple sources\n",
    "    },\n",
    "    \"sink_write_trigger\": \"availableNow\",  # availableNow, ProcessingTime\n",
    "    \"sink_write_trigger_value\": True,  # true and false for AvailableNow\n",
    "    \"sink_write_prescript\": None,\n",
    "    \"sink_write_postscript\": None,\n",
    "    \"sink_validators\": None\n",
    "}\n",
    "\n",
    "# write\n",
    "try:\n",
    "    writer = DeltaTableWriter(spark, df, config_writer, debug)\n",
    "    query = writer.write_stream()\n",
    "    query.awaitTermination()\n",
    "\n",
    "except Exception as e:\n",
    "    print(e)\n",
    "    raise e\n",
    "finally:\n",
    "    logging.shutdown()"
   ]
  },
  {
   "cell_type": "code",
   "execution_count": 0,
   "metadata": {
    "application/vnd.databricks.v1+cell": {
     "cellMetadata": {
      "byteLimit": 2048000,
      "implicitDf": true,
      "rowLimit": 10000
     },
     "inputWidgets": {},
     "nuid": "2a842bbc-31ae-41cf-a846-b4c67484a743",
     "showTitle": false,
     "tableResultSettingsMap": {},
     "title": ""
    }
   },
   "outputs": [],
   "source": [
    "%sql\n",
    "select\n",
    "  *\n",
    "from\n",
    "  lakehouse.bronze.paytronix_mid352_combinedcards;\n",
    "\n",
    "select\n",
    "  `_source_name`,\n",
    "  `_record_timestamp`,\n",
    "  count(*)\n",
    "from\n",
    "  lakehouse.bronze.paytronix_mid352_combinedcards\n",
    "group by\n",
    "  `_source_name`,\n",
    "  `_record_timestamp`\n",
    "order by\n",
    "  `_source_name`,\n",
    "  `_record_timestamp`"
   ]
  },
  {
   "cell_type": "code",
   "execution_count": 0,
   "metadata": {
    "application/vnd.databricks.v1+cell": {
     "cellMetadata": {
      "byteLimit": 2048000,
      "implicitDf": true,
      "rowLimit": 10000
     },
     "inputWidgets": {},
     "nuid": "6d17ff9e-291f-42c8-92c5-48d79528d2be",
     "showTitle": false,
     "tableResultSettingsMap": {},
     "title": ""
    }
   },
   "outputs": [],
   "source": [
    "%sql\n",
    "select `_record_id`, `_record_timestamp`,* from lakehouse.bronze.paytronix_mid352_combinedcards\n",
    "where primary_card_number = '6000200155719787';"
   ]
  },
  {
   "cell_type": "code",
   "execution_count": 0,
   "metadata": {
    "application/vnd.databricks.v1+cell": {
     "cellMetadata": {
      "byteLimit": 2048000,
      "implicitDf": true,
      "rowLimit": 10000
     },
     "inputWidgets": {},
     "nuid": "9db66006-d11c-4bd7-96b9-a047004ba90d",
     "showTitle": false,
     "tableResultSettingsMap": {},
     "title": ""
    }
   },
   "outputs": [],
   "source": [
    "%sql\n",
    "select `_record_id`, `_record_timestamp`,* from lakehouse.bronze.paytronix_mid352_combinedcards\n",
    "where primary_card_number = '6000200155719787';"
   ]
  }
 ],
 "metadata": {
  "application/vnd.databricks.v1+notebook": {
   "computePreferences": null,
   "dashboards": [],
   "environmentMetadata": {
    "base_environment": "",
    "environment_version": "2"
   },
   "inputWidgetPreferences": null,
   "language": "python",
   "notebookMetadata": {
    "mostRecentlyExecutedCommandWithImplicitDF": {
     "commandId": 6186446410881116,
     "dataframes": [
      "_sqldf"
     ]
    },
    "pythonIndentUnit": 4
   },
   "notebookName": "test_datawriter",
   "widgets": {}
  },
  "language_info": {
   "name": "python"
  }
 },
 "nbformat": 4,
 "nbformat_minor": 0
}
