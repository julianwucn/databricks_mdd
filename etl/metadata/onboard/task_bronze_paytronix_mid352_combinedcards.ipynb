{
 "cells": [
  {
   "cell_type": "code",
   "execution_count": 0,
   "metadata": {
    "application/vnd.databricks.v1+cell": {
     "cellMetadata": {
      "byteLimit": 2048000,
      "rowLimit": 10000
     },
     "inputWidgets": {},
     "nuid": "e4a63ec0-f9d5-40d8-bae2-5e8ebe6d5bb8",
     "showTitle": false,
     "tableResultSettingsMap": {},
     "title": ""
    }
   },
   "outputs": [],
   "source": [
    "%run /Workspace/Shared/databricks_mdd/mdd/shared/onboard_runner"
   ]
  }
 ],
 "metadata": {
  "application/vnd.databricks.v1+notebook": {
   "computePreferences": null,
   "dashboards": [],
   "environmentMetadata": {
    "base_environment": "",
    "environment_version": "2"
   },
   "inputWidgetPreferences": null,
   "language": "python",
   "notebookMetadata": {
    "mostRecentlyExecutedCommandWithImplicitDF": {
     "commandId": 6186446410881134,
     "dataframes": [
      "_sqldf"
     ]
    },
    "pythonIndentUnit": 4,
    "widgetLayout": [
     {
      "breakBefore": false,
      "name": "metadata_yml",
      "width": 410
     },
     {
      "breakBefore": false,
      "name": "parent_task_run_id",
      "width": 126
     },
     {
      "breakBefore": false,
      "name": "job_name",
      "width": 126
     },
     {
      "breakBefore": false,
      "name": "job_start_timestamp",
      "width": 126
     },
     {
      "breakBefore": false,
      "name": "development_mode",
      "width": 126
     }
    ]
   },
   "notebookName": "task_bronze_paytronix_mid352_combinedcards",
   "widgets": {
    "development_mode": {
     "currentValue": "true",
     "nuid": "1a207d5e-a09b-4d74-93dd-edccc0c0395a",
     "typedWidgetInfo": {
      "autoCreated": false,
      "defaultValue": "true",
      "label": "",
      "name": "development_mode",
      "options": {
       "widgetDisplayType": "Dropdown",
       "choices": [
        "true",
        "false"
       ],
       "fixedDomain": true,
       "multiselect": false
      },
      "parameterDataType": "String"
     },
     "widgetInfo": {
      "widgetType": "dropdown",
      "defaultValue": "true",
      "label": "",
      "name": "development_mode",
      "options": {
       "widgetType": "dropdown",
       "autoCreated": false,
       "choices": [
        "true",
        "false"
       ]
      }
     }
    },
    "job_name": {
     "currentValue": "job_123",
     "nuid": "0416ac02-68d7-4720-93c8-4b8330dd7a57",
     "typedWidgetInfo": {
      "autoCreated": false,
      "defaultValue": "job_123",
      "label": "",
      "name": "job_name",
      "options": {
       "widgetDisplayType": "Text",
       "validationRegex": null
      },
      "parameterDataType": "String"
     },
     "widgetInfo": {
      "widgetType": "text",
      "defaultValue": "job_123",
      "label": "",
      "name": "job_name",
      "options": {
       "widgetType": "text",
       "autoCreated": false,
       "validationRegex": null
      }
     }
    },
    "job_start_timestamp": {
     "currentValue": "",
     "nuid": "59704681-535f-4340-8e55-f1d982f82920",
     "typedWidgetInfo": {
      "autoCreated": false,
      "defaultValue": "",
      "label": "",
      "name": "job_start_timestamp",
      "options": {
       "widgetDisplayType": "Text",
       "validationRegex": null
      },
      "parameterDataType": "String"
     },
     "widgetInfo": {
      "widgetType": "text",
      "defaultValue": "",
      "label": "",
      "name": "job_start_timestamp",
      "options": {
       "widgetType": "text",
       "autoCreated": false,
       "validationRegex": null
      }
     }
    },
    "task_metadata": {
     "currentValue": "onboard/bronze_paytronix_mid352_combinedcards.yml",
     "nuid": "f04a26e7-da98-4e82-8479-002f08d9c1ad",
     "typedWidgetInfo": {
      "autoCreated": false,
      "defaultValue": "",
      "label": "",
      "name": "task_metadata",
      "options": {
       "widgetDisplayType": "Text",
       "validationRegex": null
      },
      "parameterDataType": "String"
     },
     "widgetInfo": {
      "widgetType": "text",
      "defaultValue": "",
      "label": "",
      "name": "task_metadata",
      "options": {
       "widgetType": "text",
       "autoCreated": false,
       "validationRegex": null
      }
     }
    },
    "task_name": {
     "currentValue": "",
     "nuid": "f435420f-9a9b-4e22-af1b-b07fcd9be214",
     "typedWidgetInfo": {
      "autoCreated": false,
      "defaultValue": "",
      "label": "",
      "name": "task_name",
      "options": {
       "widgetDisplayType": "Text",
       "validationRegex": null
      },
      "parameterDataType": "String"
     },
     "widgetInfo": {
      "widgetType": "text",
      "defaultValue": "",
      "label": "",
      "name": "task_name",
      "options": {
       "widgetType": "text",
       "autoCreated": false,
       "validationRegex": null
      }
     }
    }
   }
  },
  "language_info": {
   "name": "python"
  }
 },
 "nbformat": 4,
 "nbformat_minor": 0
}
