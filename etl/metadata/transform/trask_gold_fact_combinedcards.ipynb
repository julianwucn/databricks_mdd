{
 "cells": [
  {
   "cell_type": "code",
   "execution_count": 0,
   "metadata": {
    "application/vnd.databricks.v1+cell": {
     "cellMetadata": {
      "byteLimit": 2048000,
      "rowLimit": 10000
     },
     "inputWidgets": {},
     "nuid": "2b90c0e2-a65e-4875-b136-085e33e57da7",
     "showTitle": false,
     "tableResultSettingsMap": {},
     "title": ""
    }
   },
   "outputs": [],
   "source": [
    "%load_ext autoreload\n",
    "%autoreload 2\n",
    "\n",
    "import logging\n",
    "import datetime\n",
    "from pyspark.sql.functions import *\n",
    "from pyspark.sql import SparkSession, DataFrame\n",
    "from mdd.logger import *\n",
    "from mdd.utils import DecoratorUtil, DeltaTableUtil, FunctionUtil\n",
    "from mdd.transformer import TransformerABS\n",
    "\n",
    "@DecoratorUtil.add_logger()\n",
    "class Transformer(TransformerABS):\n",
    "    def __init__(self, spark: SparkSession, metadata_yml: str, development: bool = False):\n",
    "        super().__init__(spark, metadata_yml, development)\n",
    "\n",
    "    @DecoratorUtil.log_function()\n",
    "    def _transform(self, df: DataFrame) -> DataFrame | None:\n",
    "        # comment out the following line only when you need raw data\n",
    "        df = self._get_clean_data(df)\n",
    "\n",
    "        # development mode: check the to-be-transformed data\n",
    "        if self.development:\n",
    "            self.logger.info(\"The to-be-transformed data:\")\n",
    "            display(df)\n",
    "\n",
    "        # <transformation code: start> ----------------------------------------------\n",
    "\n",
    "        drop_columns = [\n",
    "            \"file_date\",\n",
    "            \"file_year\",\n",
    "            \"file_month\",\n",
    "        ]\n",
    "        df = DeltaTableUtil.safe_drop_columns(df, drop_columns)\n",
    "\n",
    "        # <transformation code: end> -------------------------------------------------\n",
    "\n",
    "        # development mode: check the transformed data\n",
    "        if self.development:\n",
    "            self.logger.info(\"The transformed data:\")\n",
    "            display(df)\n",
    "\n",
    "        return df"
   ]
  },
  {
   "cell_type": "code",
   "execution_count": 0,
   "metadata": {
    "application/vnd.databricks.v1+cell": {
     "cellMetadata": {
      "byteLimit": 2048000,
      "rowLimit": 10000
     },
     "inputWidgets": {},
     "nuid": "13d725d6-4601-45a5-8d0a-5fb8647a7b2c",
     "showTitle": false,
     "tableResultSettingsMap": {},
     "title": ""
    }
   },
   "outputs": [],
   "source": [
    "%run /Workspace/Shared/databricks_mdd/mdd/shared/transform_runner"
   ]
  }
 ],
 "metadata": {
  "application/vnd.databricks.v1+notebook": {
   "computePreferences": null,
   "dashboards": [],
   "environmentMetadata": {
    "base_environment": "",
    "environment_version": "2"
   },
   "inputWidgetPreferences": null,
   "language": "python",
   "notebookMetadata": {
    "mostRecentlyExecutedCommandWithImplicitDF": {
     "commandId": 7461377156610145,
     "dataframes": [
      "_sqldf"
     ]
    },
    "pythonIndentUnit": 4,
    "widgetLayout": [
     {
      "breakBefore": false,
      "name": "metadata_yml",
      "width": 456
     },
     {
      "breakBefore": false,
      "name": "development_mode",
      "width": 141
     },
     {
      "breakBefore": false,
      "name": "parent_task_run_id",
      "width": 141
     },
     {
      "breakBefore": false,
      "name": "job_name",
      "width": 141
     },
     {
      "breakBefore": false,
      "name": "job_start_timestamp",
      "width": 141
     }
    ]
   },
   "notebookName": "trask_gold_fact_combinedcards",
   "widgets": {
    "development_mode": {
     "currentValue": "true",
     "nuid": "140055f4-9149-41e8-b227-ae74d474f042",
     "typedWidgetInfo": {
      "autoCreated": false,
      "defaultValue": "true",
      "label": "",
      "name": "development_mode",
      "options": {
       "widgetDisplayType": "Dropdown",
       "choices": [
        "true",
        "false"
       ],
       "fixedDomain": true,
       "multiselect": false
      },
      "parameterDataType": "String"
     },
     "widgetInfo": {
      "widgetType": "dropdown",
      "defaultValue": "true",
      "label": "",
      "name": "development_mode",
      "options": {
       "widgetType": "dropdown",
       "autoCreated": false,
       "choices": [
        "true",
        "false"
       ]
      }
     }
    },
    "job_name": {
     "currentValue": "job_123",
     "nuid": "3ca4b579-d358-4dab-8284-50f88d1f471e",
     "typedWidgetInfo": {
      "autoCreated": false,
      "defaultValue": "job_123",
      "label": "",
      "name": "job_name",
      "options": {
       "widgetDisplayType": "Text",
       "validationRegex": null
      },
      "parameterDataType": "String"
     },
     "widgetInfo": {
      "widgetType": "text",
      "defaultValue": "job_123",
      "label": "",
      "name": "job_name",
      "options": {
       "widgetType": "text",
       "autoCreated": false,
       "validationRegex": null
      }
     }
    },
    "job_start_timestamp": {
     "currentValue": "",
     "nuid": "3d6e5cb3-5644-462c-92de-50281277c9f4",
     "typedWidgetInfo": {
      "autoCreated": false,
      "defaultValue": "",
      "label": "",
      "name": "job_start_timestamp",
      "options": {
       "widgetDisplayType": "Text",
       "validationRegex": null
      },
      "parameterDataType": "String"
     },
     "widgetInfo": {
      "widgetType": "text",
      "defaultValue": "",
      "label": "",
      "name": "job_start_timestamp",
      "options": {
       "widgetType": "text",
       "autoCreated": false,
       "validationRegex": null
      }
     }
    },
    "task_metadata": {
     "currentValue": "transform/gold_fact_combinedcards.yml",
     "nuid": "929293d4-a465-4a5d-b0ca-84e866e97aab",
     "typedWidgetInfo": {
      "autoCreated": false,
      "defaultValue": "",
      "label": "",
      "name": "task_metadata",
      "options": {
       "widgetDisplayType": "Text",
       "validationRegex": null
      },
      "parameterDataType": "String"
     },
     "widgetInfo": {
      "widgetType": "text",
      "defaultValue": "",
      "label": "",
      "name": "task_metadata",
      "options": {
       "widgetType": "text",
       "autoCreated": false,
       "validationRegex": null
      }
     }
    },
    "task_name": {
     "currentValue": "",
     "nuid": "d9029aa7-34ee-4714-b220-8670f484be8e",
     "typedWidgetInfo": {
      "autoCreated": false,
      "defaultValue": "",
      "label": "",
      "name": "task_name",
      "options": {
       "widgetDisplayType": "Text",
       "validationRegex": null
      },
      "parameterDataType": "String"
     },
     "widgetInfo": {
      "widgetType": "text",
      "defaultValue": "",
      "label": "",
      "name": "task_name",
      "options": {
       "widgetType": "text",
       "autoCreated": false,
       "validationRegex": null
      }
     }
    }
   }
  },
  "language_info": {
   "name": "python"
  }
 },
 "nbformat": 4,
 "nbformat_minor": 0
}
