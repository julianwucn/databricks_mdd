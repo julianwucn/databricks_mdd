{
 "cells": [
  {
   "cell_type": "code",
   "execution_count": 0,
   "metadata": {
    "application/vnd.databricks.v1+cell": {
     "cellMetadata": {
      "byteLimit": 2048000,
      "rowLimit": 10000
     },
     "inputWidgets": {},
     "nuid": "74bfc3f6-7bac-4c91-95c0-6715188072fe",
     "showTitle": false,
     "tableResultSettingsMap": {},
     "title": ""
    }
   },
   "outputs": [],
   "source": [
    "%load_ext autoreload\n",
    "%autoreload 2\n",
    "import logging\n",
    "import datetime\n",
    "from mdd.logger import *\n",
    "from mdd.onboarder import *\n",
    "\n",
    "log_folder = \"mdd_test\"\n",
    "log_file_name = \"test_onboarder\"\n",
    "log_timestamp = datetime.datetime.now()\n",
    "debug = False\n",
    "\n",
    "Logger.init(log_folder, log_file_name, log_timestamp, debug)\n",
    "\n",
    "try:\n",
    "    metadata_yml = \"onboard/bronze_paytronix_mid352_combinedcards.yml\"\n",
    "    dataflow = OnboardDataFlow(spark, metadata_yml)\n",
    "    dataflow.run()\n",
    "except Exception as e:\n",
    "    print(e)\n",
    "finally:\n",
    "    logging.shutdown()\n",
    "\n"
   ]
  },
  {
   "cell_type": "code",
   "execution_count": 0,
   "metadata": {
    "application/vnd.databricks.v1+cell": {
     "cellMetadata": {
      "byteLimit": 2048000,
      "rowLimit": 10000
     },
     "inputWidgets": {},
     "nuid": "6cda88d5-55f4-4040-826c-bcb76e6a2dd0",
     "showTitle": false,
     "tableResultSettingsMap": {},
     "title": ""
    }
   },
   "outputs": [],
   "source": [
    "%%sql\n",
    "use catalog lakehouse;\n",
    "\n",
    "select * from bronze.paytronix_mid352_combinedcards;"
   ]
  }
 ],
 "metadata": {
  "application/vnd.databricks.v1+notebook": {
   "computePreferences": null,
   "dashboards": [],
   "environmentMetadata": {
    "base_environment": "",
    "environment_version": "2"
   },
   "inputWidgetPreferences": null,
   "language": "python",
   "notebookMetadata": {
    "pythonIndentUnit": 4
   },
   "notebookName": "test_onboarder",
   "widgets": {}
  },
  "language_info": {
   "name": "python"
  }
 },
 "nbformat": 4,
 "nbformat_minor": 0
}
