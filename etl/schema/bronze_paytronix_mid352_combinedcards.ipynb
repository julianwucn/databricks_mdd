{
 "cells": [
  {
   "cell_type": "code",
   "execution_count": 0,
   "metadata": {
    "application/vnd.databricks.v1+cell": {
     "cellMetadata": {
      "byteLimit": 2048000,
      "rowLimit": 10000
     },
     "inputWidgets": {},
     "nuid": "81689add-6c71-4f6b-9fcc-acdef9b33273",
     "showTitle": false,
     "tableResultSettingsMap": {},
     "title": ""
    }
   },
   "outputs": [],
   "source": [
    "use catalog lakehouse;\n",
    "\n",
    "drop table if exists bronze.paytronix_mid352_combinedcards;\n",
    "\n",
    "create table bronze.paytronix_mid352_combinedcards\n",
    "(\n",
    "    -- business columns\n",
    "    combine_datetime timestamp\n",
    "    ,primary_card_number string\n",
    "    ,added_card_number string\n",
    "    ,card_template string\n",
    "    ,current_account_status string\n",
    "    ,no_cards_in_account int\n",
    "    ,email string\n",
    "    ,surviving_account_number string\n",
    "    ,abandoned_account_number string\n",
    "    ,account_code string\n",
    "    \n",
    "    -- devrived columns\n",
    "    ,file_date string generated always as (element_at(split(_source_name, '[_.]'), 3))\n",
    "    ,file_year string generated always as (substring(element_at(split(_source_name, '[_.]'), 3), 1, 4))\n",
    "    ,file_month string generated always as (substring(element_at(split(_source_name, '[_.]'), 3), 5, 2))\n",
    "\n",
    "    -- technical columns\n",
    "    ,_corrupt_record string\n",
    "    ,_rescued_data string\n",
    "\n",
    "    -- system columns\n",
    "    ,_source_name string\n",
    "    ,_source_timestamp timestamp\n",
    "    ,_record_id string\n",
    "    ,_record_timestamp timestamp\n",
    "    ,_record_deleted boolean\n",
    ")\n",
    "partitioned by (file_year, file_month)\n",
    "tblproperties (\n",
    "    delta.autoOptimize.optimizeWrite = true\n",
    "    ,delta.autoOptimize.autoCompact = true\n",
    "    ,delta.enableChangeDataFeed = true\n",
    "    ,delta.feature.allowColumnDefaults = 'supported'\n",
    "    ,delta.minReaderVersion = 2\n",
    "    ,delta.minWriterVersion = 5    \n",
    ");"
   ]
  }
 ],
 "metadata": {
  "application/vnd.databricks.v1+notebook": {
   "computePreferences": null,
   "dashboards": [],
   "environmentMetadata": {
    "base_environment": "",
    "environment_version": "2"
   },
   "inputWidgetPreferences": null,
   "language": "sql",
   "notebookMetadata": {
    "pythonIndentUnit": 4
   },
   "notebookName": "bronze_paytronix_mid352_combinedcards",
   "widgets": {}
  },
  "language_info": {
   "name": "sql"
  }
 },
 "nbformat": 4,
 "nbformat_minor": 0
}
