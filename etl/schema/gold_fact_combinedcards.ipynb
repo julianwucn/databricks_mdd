{
 "cells": [
  {
   "cell_type": "code",
   "execution_count": 0,
   "metadata": {
    "application/vnd.databricks.v1+cell": {
     "cellMetadata": {
      "byteLimit": 2048000,
      "rowLimit": 10000
     },
     "inputWidgets": {},
     "nuid": "81689add-6c71-4f6b-9fcc-acdef9b33273",
     "showTitle": false,
     "tableResultSettingsMap": {},
     "title": ""
    }
   },
   "outputs": [],
   "source": [
    "use catalog lakehouse;\n",
    "\n",
    "drop table if exists gold.fact_combinedcards;\n",
    "\n",
    "create table gold.fact_combinedcards\n",
    "(\n",
    "    -- business columns\n",
    "    combine_datetime timestamp\n",
    "    ,primary_card_number string\n",
    "    ,added_card_number string\n",
    "    ,card_template string\n",
    "    ,current_account_status string\n",
    "    ,no_cards_in_account int\n",
    "    ,email string\n",
    "    ,surviving_account_number string\n",
    "    ,abandoned_account_number string\n",
    "    ,account_code string\n",
    "    ,file_date string\n",
    "    ,file_year string\n",
    "    ,file_month string\n",
    "\n",
    "    -- system columns\n",
    "    ,_source_name string\n",
    "    ,_source_timestamp timestamp\n",
    "    ,_record_id string\n",
    "    ,_record_timestamp timestamp\n",
    "    ,_record_deleted boolean\n",
    ")\n",
    "partitioned by (file_year, file_month)\n",
    "tblproperties (\n",
    "    delta.autoOptimize.optimizeWrite = true\n",
    "    ,delta.autoOptimize.autoCompact = true\n",
    "    ,delta.enableChangeDataFeed = true\n",
    "    ,delta.feature.allowColumnDefaults = 'supported'\n",
    "    ,delta.minReaderVersion = 2\n",
    "    ,delta.minWriterVersion = 5    \n",
    ");"
   ]
  }
 ],
 "metadata": {
  "application/vnd.databricks.v1+notebook": {
   "computePreferences": null,
   "dashboards": [],
   "environmentMetadata": {
    "base_environment": "",
    "environment_version": "2"
   },
   "inputWidgetPreferences": null,
   "language": "sql",
   "notebookMetadata": {
    "pythonIndentUnit": 4
   },
   "notebookName": "gold_fact_combinedcards",
   "widgets": {}
  },
  "language_info": {
   "name": "sql"
  }
 },
 "nbformat": 4,
 "nbformat_minor": 0
}
