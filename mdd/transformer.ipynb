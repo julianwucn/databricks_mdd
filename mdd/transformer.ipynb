{
 "cells": [
  {
   "cell_type": "code",
   "execution_count": 0,
   "metadata": {
    "application/vnd.databricks.v1+cell": {
     "cellMetadata": {
      "byteLimit": 2048000,
      "rowLimit": 10000
     },
     "inputWidgets": {},
     "nuid": "228eb205-7cfb-476b-8d89-2e92770df6c0",
     "showTitle": false,
     "tableResultSettingsMap": {},
     "title": ""
    }
   },
   "outputs": [],
   "source": [
    "import logging\n",
    "from typing import Tuple\n",
    "from pyspark.sql import SparkSession\n",
    "from pyspark.sql import DataFrame\n",
    "from pyspark.sql.window import Window\n",
    "from pyspark.sql.functions import row_number, col\n",
    "from mdd.utils import DecoratorUtil, DeltaTableUtil, FunctionUtil\n",
    "from mdd.metadata import Metadata\n",
    "from mdd.datareader import DeltaTableReader\n",
    "from mdd.datawriter import DeltaTableWriter\n",
    "\n",
    "\n",
    "@DecoratorUtil.add_logger()\n",
    "class TransformDataFlow:\n",
    "    logger: logging.Logger\n",
    "\n",
    "    def __init__(self, spark: SparkSession, metadata_yml: str):\n",
    "        self.spark = spark\n",
    "        self.metadata = Metadata(metadata_yml, False)\n",
    "        self.debug = self.metadata.get(\"debug\")\n",
    "        self.active = self.metadata.get(\"active\")\n",
    "        self.source_name = self.metadata.get(\"reader\", \"source_name\")\n",
    "        self.sink_name = self.metadata.get(\"writer\", \"sink_name\")\n",
    "\n",
    "        dataflow_type = self.metadata.get(\"dataflow_type\")\n",
    "        if dataflow_type != \"transform\":\n",
    "            message = (\n",
    "                f\"Invalid dataflow type: {dataflow_type}, it should be 'transform'\"\n",
    "            )\n",
    "            self.logger.error(message)\n",
    "            raise Exception(message)\n",
    "\n",
    "        DeltaTableUtil.ensure_system_columns(self.spark, self.sink_name)\n",
    "\n",
    "    @DecoratorUtil.log_function()\n",
    "    def read_stream(self) -> Tuple[DataFrame, str]:\n",
    "        \"\"\"\n",
    "        Reads data from the specified Delta table using the provided configuration.\n",
    "\n",
    "        :return: Spark DataFrame containing the read data\n",
    "        \"\"\"\n",
    "        mode = self.metadata.get(\"sync_options\", \"mode\")\n",
    "        backfill_days = self.metadata.get(\"sync_options\", \"backfill_days\")\n",
    "\n",
    "        # build the config for data reader\n",
    "        config = {}\n",
    "        config[\"source_name\"] = self.source_name\n",
    "        config[\"mode\"] = mode\n",
    "        config[\"backfill_days\"] = backfill_days\n",
    "        if mode == \"full\":\n",
    "            # get the max _source_timestamp from the target table\n",
    "            max_source_timestamp = DeltaTableUtil.get_max_column_value(\n",
    "                self.spark, self.sink_name, \"_source_timestamp\"\n",
    "            )\n",
    "            config[\"full_max_processed_timestamp\"] = max_source_timestamp\n",
    "        elif mode == \"incremental\":\n",
    "            max_source_commit_version = DeltaTableUtil.get_max_column_value(\n",
    "                self.spark,\n",
    "                \"mdd.table_control\",\n",
    "                \"source_commit_version\",\n",
    "                f\"table_name = '{self.sink_name}' and source_name = '{self.source_name}'\",\n",
    "            )\n",
    "            config[\"incremental_max_processed_version\"] = max_source_commit_version\n",
    "        else:\n",
    "            message = f\"Invalid mode: {mode}\"\n",
    "            self.logger.error(message)\n",
    "            raise ValueError(message)\n",
    "\n",
    "        if self.debug:\n",
    "            self.logger.info(f\"Config: {config}\")\n",
    "\n",
    "        reader = DeltaTableReader(spark=self.spark, config=config, debug=self.debug)\n",
    "        df, sync_mode = reader.read_stream()\n",
    "\n",
    "        return df, sync_mode\n",
    "\n",
    "    @DecoratorUtil.log_function()\n",
    "    def transform(self, df: DataFrame) -> DataFrame:\n",
    "        return df\n",
    "\n",
    "    @DecoratorUtil.log_function()\n",
    "    def write_stream(self, df: DataFrame):\n",
    "        DeltaTableUtil.ensure_system_columns(self.spark, self.sink_name)\n",
    "        \n",
    "        config_writer = self.metadata.get(\"writer\")\n",
    "        writer = DeltaTableWriter(self.spark, config_writer, self.debug)\n",
    "        query = writer.write_stream(df)\n",
    "        query.awaitTermination()\n",
    "\n",
    "        # run post script\n",
    "        writer.execute_postscript()\n",
    "\n",
    "    @DecoratorUtil.log_function()\n",
    "    def run(self):\n",
    "        self.logger.info(\"Transform start ...\")\n",
    "\n",
    "        self.logger.info(\"Read start...\")\n",
    "        df, sync_mode = self.read_stream()\n",
    "        self.logger.info(\"Read end...\")\n",
    "\n",
    "        self.logger.info(\"Deduplicate start...\")\n",
    "        df = self.transform(df)\n",
    "        self.logger.info(\"Deduplicate end...\")\n",
    "\n",
    "        self.logger.info(\"Write start...\")\n",
    "        self.write_stream(df, sync_mode)\n",
    "        self.logger.info(\"Write end...\")"
   ]
  },
  {
   "cell_type": "code",
   "execution_count": 0,
   "metadata": {
    "application/vnd.databricks.v1+cell": {
     "cellMetadata": {
      "byteLimit": 2048000,
      "rowLimit": 10000
     },
     "inputWidgets": {},
     "nuid": "60cddfa7-bc65-43d3-9bf1-a40a965a9fa5",
     "showTitle": false,
     "tableResultSettingsMap": {},
     "title": ""
    }
   },
   "outputs": [],
   "source": [
    "%load_ext autoreload\n",
    "%autoreload 2\n",
    "import logging\n",
    "import datetime\n",
    "from pyspark.sql.functions import lit\n",
    "from mdd.logger import *\n",
    "#from mdd.transformer import *\n",
    "\n",
    "log_folder = \"mdd_test\"\n",
    "log_file_name = \"test_transformer\"\n",
    "log_timestamp = datetime.datetime.now()\n",
    "debug = False\n",
    "Logger.init(log_folder, log_file_name, log_timestamp, debug)\n",
    "\n",
    "try:\n",
    "    metadata_yml = \"transform/gold_fact_combinedcards.yml\"\n",
    "    dataflow = TransformDataFlow(spark, metadata_yml)\n",
    "    df_read, sync_mode = dataflow.read_stream()\n",
    "    print(f\"sync_mode: {sync_mode}\")\n",
    "except Exception as e:\n",
    "    print(e)\n",
    "finally:\n",
    "    logging.shutdown()\n",
    "\n"
   ]
  },
  {
   "cell_type": "code",
   "execution_count": 0,
   "metadata": {
    "application/vnd.databricks.v1+cell": {
     "cellMetadata": {
      "byteLimit": 2048000,
      "rowLimit": 10000
     },
     "inputWidgets": {},
     "nuid": "d61ca80b-d355-412d-ada4-cc6a42f55e1e",
     "showTitle": false,
     "tableResultSettingsMap": {},
     "title": ""
    }
   },
   "outputs": [],
   "source": [
    "display(df_read)\n"
   ]
  },
  {
   "cell_type": "code",
   "execution_count": 0,
   "metadata": {
    "application/vnd.databricks.v1+cell": {
     "cellMetadata": {
      "byteLimit": 2048000,
      "rowLimit": 10000
     },
     "inputWidgets": {},
     "nuid": "9e2953a8-2f8a-43f3-bfc9-9689199c5432",
     "showTitle": false,
     "tableResultSettingsMap": {},
     "title": ""
    }
   },
   "outputs": [],
   "source": [
    "df_read.isStreaming"
   ]
  },
  {
   "cell_type": "code",
   "execution_count": 0,
   "metadata": {
    "application/vnd.databricks.v1+cell": {
     "cellMetadata": {
      "byteLimit": 2048000,
      "rowLimit": 10000
     },
     "inputWidgets": {},
     "nuid": "a89d6fc8-e2dc-488b-ade0-4b808456e448",
     "showTitle": false,
     "tableResultSettingsMap": {},
     "title": ""
    }
   },
   "outputs": [],
   "source": [
    "df_deduplicated = dataflow.deduplicate(df_read)\n",
    "display(df_deduplicated)"
   ]
  },
  {
   "cell_type": "code",
   "execution_count": 0,
   "metadata": {
    "application/vnd.databricks.v1+cell": {
     "cellMetadata": {
      "byteLimit": 2048000,
      "implicitDf": true,
      "rowLimit": 10000
     },
     "inputWidgets": {},
     "nuid": "159bb849-71a0-460e-a507-74a926571232",
     "showTitle": false,
     "tableResultSettingsMap": {},
     "title": ""
    }
   },
   "outputs": [],
   "source": [
    "%sql\n",
    "select count(*) from lakehouse.bronze.paytronix_mid352_combinedcards;"
   ]
  },
  {
   "cell_type": "code",
   "execution_count": 0,
   "metadata": {
    "application/vnd.databricks.v1+cell": {
     "cellMetadata": {
      "byteLimit": 2048000,
      "rowLimit": 10000
     },
     "inputWidgets": {},
     "nuid": "f3e73425-2116-4241-b926-f854d747a213",
     "showTitle": false,
     "tableResultSettingsMap": {},
     "title": ""
    }
   },
   "outputs": [],
   "source": [
    "drop_columns = [\"_corrupt_record\", \"_rescued_data\", \"_mode\", \"_change_type\", \"_commit_version\", \"_commit_timestamp\"]\n",
    "\n",
    "from mdd.helper.deltatable import DeltaTableUtils as dtu\n",
    "df_transformed = DeltaTableUtil.safe_drop_columns(df_read, drop_columns)\n",
    "display(df_transformed)"
   ]
  },
  {
   "cell_type": "code",
   "execution_count": 0,
   "metadata": {
    "application/vnd.databricks.v1+cell": {
     "cellMetadata": {
      "byteLimit": 2048000,
      "rowLimit": 10000
     },
     "inputWidgets": {},
     "nuid": "3b9c7653-16bc-447a-b88d-a33d8a97a5b3",
     "showTitle": false,
     "tableResultSettingsMap": {},
     "title": ""
    }
   },
   "outputs": [],
   "source": [
    "df_transformed.isStreaming"
   ]
  },
  {
   "cell_type": "code",
   "execution_count": 0,
   "metadata": {
    "application/vnd.databricks.v1+cell": {
     "cellMetadata": {
      "byteLimit": 2048000,
      "rowLimit": 10000
     },
     "inputWidgets": {},
     "nuid": "e440f65c-61a6-4ea0-82ef-d41d4f989d88",
     "showTitle": false,
     "tableResultSettingsMap": {},
     "title": ""
    }
   },
   "outputs": [],
   "source": [
    "dataflow.write_stream(df_transformed)"
   ]
  },
  {
   "cell_type": "code",
   "execution_count": 0,
   "metadata": {
    "application/vnd.databricks.v1+cell": {
     "cellMetadata": {
      "byteLimit": 2048000,
      "implicitDf": true,
      "rowLimit": 10000
     },
     "inputWidgets": {},
     "nuid": "11e1a8a7-3948-4bf1-8807-57b9ec438cfd",
     "showTitle": false,
     "tableResultSettingsMap": {},
     "title": ""
    }
   },
   "outputs": [],
   "source": [
    "%sql\n",
    "update lakehouse.bronze.paytronix_mid352_combinedcards\n",
    "set card_template = 'visa4', `_record_timestamp`=current_timestamp()\n",
    "where primary_card_number = '6000201936678524';\n",
    "\n",
    "select * from lakehouse.bronze.paytronix_mid352_combinedcards\n",
    "where primary_card_number = '6000201936678524';   \n",
    "\n",
    "--describe history lakehouse.bronze.paytronix_mid352_combinedcards"
   ]
  },
  {
   "cell_type": "code",
   "execution_count": 0,
   "metadata": {
    "application/vnd.databricks.v1+cell": {
     "cellMetadata": {
      "byteLimit": 2048000,
      "implicitDf": true,
      "rowLimit": 10000
     },
     "inputWidgets": {},
     "nuid": "fb3339b2-57f6-4e66-a522-8ca0397d8ea4",
     "showTitle": false,
     "tableResultSettingsMap": {},
     "title": ""
    }
   },
   "outputs": [],
   "source": [
    "%sql\n",
    "select * from lakehouse.bronze.paytronix_mid352_combinedcards\n",
    "where primary_card_number = '6000201936678524';   "
   ]
  },
  {
   "cell_type": "code",
   "execution_count": 0,
   "metadata": {
    "application/vnd.databricks.v1+cell": {
     "cellMetadata": {
      "byteLimit": 2048000,
      "rowLimit": 10000
     },
     "inputWidgets": {},
     "nuid": "2f41e6e7-8ee2-4ddc-8ad3-cb88d75724ab",
     "showTitle": false,
     "tableResultSettingsMap": {},
     "title": ""
    }
   },
   "outputs": [],
   "source": [
    "df = spark.readStream.table(\"bronze.paytronix_mid352_combinedcards\")\n",
    "#display(df.filter(\"primary_card_number = '6000201936678524'\"))\n",
    "df = df.filter(\"_record_timestamp >= '2025-05-25'\").filter(\"primary_card_number = '6000201936678524'\")\n",
    "#display(df)"
   ]
  },
  {
   "cell_type": "code",
   "execution_count": 0,
   "metadata": {
    "application/vnd.databricks.v1+cell": {
     "cellMetadata": {
      "byteLimit": 2048000,
      "rowLimit": 10000
     },
     "inputWidgets": {},
     "nuid": "033c42d6-d680-44da-8784-2009e1e0879b",
     "showTitle": false,
     "tableResultSettingsMap": {},
     "title": ""
    }
   },
   "outputs": [],
   "source": [
    "import shutil\n",
    "\n",
    "checkpoint_path = \"/dbfs//tmp/checkpoint5\"\n",
    "\n",
    "shutil.rmtree(checkpoint_path, ignore_errors=True)"
   ]
  },
  {
   "cell_type": "code",
   "execution_count": 0,
   "metadata": {
    "application/vnd.databricks.v1+cell": {
     "cellMetadata": {
      "byteLimit": 2048000,
      "rowLimit": 10000
     },
     "inputWidgets": {},
     "nuid": "21bb24c9-1b38-4f7a-86ed-58b7214a9204",
     "showTitle": false,
     "tableResultSettingsMap": {},
     "title": ""
    }
   },
   "outputs": [],
   "source": [
    "df.writeStream.format(\"delta\").trigger(availableNow=True).option(\"checkpointLocation\", \"/tmp/checkpoint5\").table(\"silver.paytronix_mid352_combinedcards\")"
   ]
  },
  {
   "cell_type": "code",
   "execution_count": 0,
   "metadata": {
    "application/vnd.databricks.v1+cell": {
     "cellMetadata": {
      "byteLimit": 2048000,
      "implicitDf": true,
      "rowLimit": 10000
     },
     "inputWidgets": {},
     "nuid": "41f2de57-6c34-42cd-8b71-8bcb61f0fd5a",
     "showTitle": false,
     "tableResultSettingsMap": {},
     "title": ""
    }
   },
   "outputs": [],
   "source": [
    "%sql\n",
    "select * from silver.paytronix_mid352_combinedcards\n",
    "where primary_card_number = '6000201936678524'"
   ]
  }
 ],
 "metadata": {
  "application/vnd.databricks.v1+notebook": {
   "computePreferences": null,
   "dashboards": [],
   "environmentMetadata": {
    "base_environment": "",
    "environment_version": "2"
   },
   "inputWidgetPreferences": null,
   "language": "python",
   "notebookMetadata": {
    "mostRecentlyExecutedCommandWithImplicitDF": {
     "commandId": 6186446410881151,
     "dataframes": [
      "_sqldf"
     ]
    },
    "pythonIndentUnit": 4
   },
   "notebookName": "transformer",
   "widgets": {}
  },
  "language_info": {
   "name": "python"
  }
 },
 "nbformat": 4,
 "nbformat_minor": 0
}
