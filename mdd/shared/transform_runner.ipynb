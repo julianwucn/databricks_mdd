{
 "cells": [
  {
   "cell_type": "code",
   "execution_count": 0,
   "metadata": {
    "application/vnd.databricks.v1+cell": {
     "cellMetadata": {
      "byteLimit": 2048000,
      "rowLimit": 10000
     },
     "inputWidgets": {},
     "nuid": "1aaa3f34-f2c2-4a58-8c83-358eb9cf8bef",
     "showTitle": false,
     "tableResultSettingsMap": {},
     "title": ""
    }
   },
   "outputs": [],
   "source": [
    "# In development mode:\n",
    "# -- the data will be processed from end to end\n",
    "# -- the to-be-processed data will be displayed\n",
    "# -- the processed data will be displayed\n",
    "# -- the processed version will not be saved\n",
    "\n",
    "# === Parameters ===\n",
    "job_name = dbutils.widgets.get(\"job_name\") or \"job_123\"\n",
    "job_start_timestamp_str = dbutils.widgets.get(\"job_start_timestamp\")\n",
    "task_name = dbutils.widgets.get(\"task_name\")\n",
    "task_metadata = dbutils.widgets.get(\"task_metadata\")\n",
    "development_mode_str = dbutils.widgets.get(\"development_mode\") or \"false\"\n",
    "\n",
    "%load_ext autoreload\n",
    "%autoreload 2\n",
    "import datetime\n",
    "import logging\n",
    "from mdd.logger import Logger\n",
    "from mdd.metadata import Metadata\n",
    "from mdd.utils import NotebookUtil, MDDUtil\n",
    "from mdd.onboarder import Onboarder\n",
    "\n",
    "# === Parse timestamp ===\n",
    "try:\n",
    "    job_start_timestamp = datetime.datetime.fromisoformat(job_start_timestamp_str)\n",
    "except Exception:\n",
    "    job_start_timestamp = datetime.datetime.now()\n",
    "\n",
    "# === Parse development_mode flag ===\n",
    "development_mode = development_mode_str.lower() in (\"true\", \"1\", \"yes\")\n",
    "\n",
    "if not task_name:\n",
    "    task_name = NotebookUtil.get_notebook_name(spark)\n",
    "    \n",
    "task_start_timestamp = datetime.datetime.now()\n",
    "\n",
    "metadata = Metadata(task_metadata)\n",
    "dataflow_type = metadata.get(\"dataflow_type\")\n",
    "\n",
    "# log task start\n",
    "task_end_timestamp = None\n",
    "task_status = \"started\"\n",
    "error_message = None\n",
    "MDDUtil.etl_job_tasks_update(\n",
    "    job_name,\n",
    "    job_start_timestamp,\n",
    "    task_name,\n",
    "    task_start_timestamp,\n",
    "    task_end_timestamp,\n",
    "    task_status,\n",
    "    error_message\n",
    ")\n",
    "\n",
    "# === Execution ===\n",
    "try:\n",
    "    Logger.init(job_name, task_name, job_start_timestamp, False)\n",
    "    if dataflow_type == \"transform\":\n",
    "        dataflow = Transformer(spark, task_metadata, development_mode)\n",
    "    elif dataflow_type == \"onboard\":\n",
    "        dataflow = Onboarder(spark, task_metadata)\n",
    "    else:\n",
    "        raise Exception(f\"Unknown dataflow type: {dataflow_type}\")\n",
    "\n",
    "    dataflow.run()\n",
    "    task_status = \"succeeded\"\n",
    "except Exception as e:\n",
    "    logging.exception(\"Job failed: {job_name}\")\n",
    "    task_status = \"failed\"\n",
    "    error_message = str(e)\n",
    "    raise e\n",
    "finally:\n",
    "    # log task end\n",
    "    task_end_timestamp = datetime.datetime.now()\n",
    "    MDDUtil.etl_job_tasks_update(\n",
    "        job_name,\n",
    "        job_start_timestamp,\n",
    "        task_name,\n",
    "        task_start_timestamp,\n",
    "        task_end_timestamp,\n",
    "        task_status,\n",
    "        error_message\n",
    "    )\n",
    "\n",
    "    logging.shutdown()\n"
   ]
  }
 ],
 "metadata": {
  "application/vnd.databricks.v1+notebook": {
   "computePreferences": null,
   "dashboards": [],
   "environmentMetadata": {
    "base_environment": "",
    "environment_version": "2"
   },
   "inputWidgetPreferences": null,
   "language": "python",
   "notebookMetadata": {
    "mostRecentlyExecutedCommandWithImplicitDF": {
     "commandId": 7461377156610145,
     "dataframes": [
      "_sqldf"
     ]
    },
    "pythonIndentUnit": 4,
    "widgetLayout": [
     {
      "breakBefore": false,
      "name": "job_name",
      "width": 159
     },
     {
      "breakBefore": false,
      "name": "job_start_timestamp",
      "width": 159
     },
     {
      "breakBefore": false,
      "name": "task_name",
      "width": 159
     },
     {
      "breakBefore": false,
      "name": "parent_task_run_id",
      "width": 159
     },
     {
      "breakBefore": false,
      "name": "development_mode",
      "width": 159
     }
    ]
   },
   "notebookName": "transform_runner",
   "widgets": {}
  },
  "language_info": {
   "name": "python"
  }
 },
 "nbformat": 4,
 "nbformat_minor": 0
}
