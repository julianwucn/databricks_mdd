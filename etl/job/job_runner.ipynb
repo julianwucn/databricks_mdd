{
 "cells": [
  {
   "cell_type": "code",
   "execution_count": 0,
   "metadata": {
    "application/vnd.databricks.v1+cell": {
     "cellMetadata": {
      "byteLimit": 2048000,
      "rowLimit": 10000
     },
     "inputWidgets": {},
     "nuid": "1ccb7c1f-cbd1-4e5b-b938-e15683d161c1",
     "showTitle": false,
     "tableResultSettingsMap": {},
     "title": ""
    }
   },
   "outputs": [],
   "source": [
    "import datetime\n",
    "\n",
    "job_name = \"job_paytronix\"\n",
    "job_start_timestamp = datetime.datetime.now()\n",
    "development_Mode = False\n",
    "\n",
    "tasks = [\n",
    "    {\n",
    "        \"task_name\": \"task_bronze_paytronix_mid352_combinedcards\",\n",
    "        \"task_metadata\": \"onboard/bronze_paytronix_mid352_combinedcards.yml\", \n",
    "        \"task_notebook\": \"/Workspace/Shared/databricks_mdd/mdd/shared/onbard_runner\",\n",
    "        \"dependencies\":[]\n",
    "    },\n",
    "    {\n",
    "        \"task_name\": \"task_gold_fact_combinedcards\",\n",
    "        \"task_metadata\": \"transform/gold_fact_combinedcards.yml\", \n",
    "        \"task_notebook\": \"/Workspace/Shared/databricks_mdd/etl/metadata/transform/gold_fact_combinedcards_transform\",\n",
    "        \"dependencies\":[\"task_bronze_paytronix_mid352_combinedcards\"]\n",
    "    }\n",
    "]"
   ]
  },
  {
   "cell_type": "code",
   "execution_count": 0,
   "metadata": {
    "application/vnd.databricks.v1+cell": {
     "cellMetadata": {
      "byteLimit": 2048000,
      "rowLimit": 10000
     },
     "inputWidgets": {},
     "nuid": "07dc75c1-84dc-48d2-ae29-8ad104ac6d02",
     "showTitle": false,
     "tableResultSettingsMap": {},
     "title": ""
    }
   },
   "outputs": [],
   "source": [
    "%load_ext autoreload\n",
    "%autoreload 2\n",
    "\n",
    "from mdd.utils import MDDUtil\n",
    "\n",
    "DAG = {\n",
    "    \"activities\": [],\n",
    "    \"timeoutInSeconds\": 43200, # max timeout for the entire pipeline, default to 12 hours\n",
    "    \"concurrency\": 0 # max number of notebooks to run concurrently, default to unlimited\n",
    "}\n",
    "\n",
    "if type(tasks) == list:\n",
    "    tasks_list = tasks\n",
    "else:\n",
    "    #print(tasks)\n",
    "    tasks_list = json.loads(tasks)\n",
    "\n",
    "for task in tasks_list:\n",
    "    activity = {}\n",
    "    activity[\"name\"] = task[\"task_name\"]\n",
    "    activity[\"args\"] = {\"task_name\": task[\"task_name\"].strip(), \n",
    "                        \"task_metadata\": task['task_metadata'].strip(),\n",
    "                        \"job_name\": job_name,\n",
    "                        \"job_start_timestamp\": job_start_timestamp,\n",
    "                        \"parent_task_run_id\": None,\n",
    "                        \"development_mode\": development_Mode,\n",
    "                        }\n",
    "    activity[\"path\"] = task[\"task_notebook\"].strip()\n",
    "    activity[\"retry\"] = 1\n",
    "    activity[\"retryIntervalInSeconds\"] = 10\n",
    "    activity[\"dependencies\"] = task[\"dependencies\"]\n",
    "\n",
    "    DAG[\"activities\"].append(activity)\n",
    "\n",
    "print(DAG)\n",
    "\n",
    "job_run_id = MDDUtil.get_run_id(job_name, job_start_timestamp)\n",
    "\n",
    "# log job started\n",
    "job_end_timestamp = None\n",
    "job_status = \"started\"\n",
    "error_message = None\n",
    "MDDUtil.etl_job_update(job_name, job_start_timestamp, job_end_timestamp, job_status, error_message)\n",
    "\n",
    "try:\n",
    "    if mssparkutils.notebook.validateDAG(DAG):\n",
    "        mssparkutils.notebook.runMultiple(DAG, {\"displayDAGViaGraphviz\": True, \"rankdir\": \"LR\"})\n",
    "\n",
    "    # log job succeeded\n",
    "    job_status = \"succeeded\"\n",
    "except Exception as e:\n",
    "    #log job failed\n",
    "    job_status = \"failed\"\n",
    "    error_message = str(e)\n",
    "    raise e\n",
    "finally:\n",
    "    job_end_timestamp = datetime.datetime.now()\n",
    "    MDDUtil.etl_job_update(job_name, job_start_timestamp, job_end_timestamp, job_status, error_message)\n"
   ]
  }
 ],
 "metadata": {
  "application/vnd.databricks.v1+notebook": {
   "computePreferences": null,
   "dashboards": [],
   "environmentMetadata": {
    "base_environment": "",
    "environment_version": "2"
   },
   "inputWidgetPreferences": null,
   "language": "python",
   "notebookMetadata": {
    "pythonIndentUnit": 4
   },
   "notebookName": "job_runner",
   "widgets": {}
  },
  "language_info": {
   "name": "python"
  }
 },
 "nbformat": 4,
 "nbformat_minor": 0
}
