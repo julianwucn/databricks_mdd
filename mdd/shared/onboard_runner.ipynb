{
 "cells": [
  {
   "cell_type": "code",
   "execution_count": 0,
   "metadata": {
    "application/vnd.databricks.v1+cell": {
     "cellMetadata": {
      "byteLimit": 2048000,
      "rowLimit": 10000
     },
     "inputWidgets": {},
     "nuid": "e4a63ec0-f9d5-40d8-bae2-5e8ebe6d5bb8",
     "showTitle": false,
     "tableResultSettingsMap": {},
     "title": ""
    }
   },
   "outputs": [],
   "source": [
    "# In development mode:\n",
    "# -- the data will be processed from end to end\n",
    "# -- the to-be-processed data will be displayed\n",
    "# -- the processed data will be displayed\n",
    "# -- the processed version will not be saved\n",
    "\n",
    "# === Parameters ===\n",
    "job_name = dbutils.widgets.get(\"job_name\") or \"job_123\"\n",
    "job_start_timestamp_str = dbutils.widgets.get(\"job_start_timestamp\")\n",
    "task_name = dbutils.widgets.get(\"task_name\")\n",
    "task_metadata = dbutils.widgets.get(\"task_metadata\")\n",
    "development_mode_str = dbutils.widgets.get(\"development_mode\") or \"false\"\n",
    "\n",
    "%load_ext autoreload\n",
    "%autoreload 2\n",
    "import datetime\n",
    "import logging\n",
    "from mdd.logger import Logger\n",
    "from mdd.metadata import Metadata\n",
    "from mdd.utils import NotebookUtil, MDDUtil\n",
    "from mdd.onboarder import Onboarder\n",
    "\n",
    "# === Parse timestamp ===\n",
    "try:\n",
    "    job_start_timestamp = datetime.datetime.fromisoformat(job_start_timestamp_str)\n",
    "except Exception:\n",
    "    job_start_timestamp = datetime.datetime.now()\n",
    "\n",
    "# === Parse development_mode flag ===\n",
    "development_mode = development_mode_str.lower() in (\"true\", \"1\", \"yes\")\n",
    "\n",
    "if not task_name:\n",
    "    task_name = NotebookUtil.get_notebook_name(spark)\n",
    "\n",
    "task_start_timestamp = datetime.datetime.now()\n",
    "\n",
    "metadata = Metadata(task_metadata)\n",
    "dataflow_type = metadata.get(\"dataflow_type\")\n",
    "\n",
    "# log task start\n",
    "task_end_timestamp = None\n",
    "task_status = \"started\"\n",
    "error_message = None\n",
    "MDDUtil.etl_job_tasks_update(\n",
    "    job_name,\n",
    "    job_start_timestamp,\n",
    "    task_name,\n",
    "    task_start_timestamp,\n",
    "    task_end_timestamp,\n",
    "    task_status,\n",
    "    error_message\n",
    ")\n",
    "\n",
    "# === Execution ===\n",
    "try:\n",
    "    Logger.init(job_name, task_name, job_start_timestamp, False)\n",
    "    if dataflow_type == \"onboard\":\n",
    "        dataflow = Onboarder(spark, task_metadata)\n",
    "    else:\n",
    "        raise Exception(f\"Unknown dataflow type: {dataflow_type}\")\n",
    "\n",
    "    dataflow.run()\n",
    "    task_status = \"succeeded\"\n",
    "except Exception as e:\n",
    "    logging.exception(\"Job failed: {job_name}\")\n",
    "    task_status = \"Failed\"\n",
    "    error_message = str(e)\n",
    "    raise e\n",
    "finally:\n",
    "    # log task end\n",
    "    task_end_timestamp = datetime.datetime.now()\n",
    "    MDDUtil.etl_job_tasks_update(\n",
    "        job_name,\n",
    "        job_start_timestamp,\n",
    "        task_name,\n",
    "        task_start_timestamp,\n",
    "        task_end_timestamp,\n",
    "        task_status,\n",
    "        error_message\n",
    "    )\n",
    "\n",
    "    logging.shutdown()\n"
   ]
  }
 ],
 "metadata": {
  "application/vnd.databricks.v1+notebook": {
   "computePreferences": null,
   "dashboards": [],
   "environmentMetadata": {
    "base_environment": "",
    "environment_version": "2"
   },
   "inputWidgetPreferences": null,
   "language": "python",
   "notebookMetadata": {
    "mostRecentlyExecutedCommandWithImplicitDF": {
     "commandId": 6186446410881134,
     "dataframes": [
      "_sqldf"
     ]
    },
    "pythonIndentUnit": 4
   },
   "notebookName": "onboard_runner",
   "widgets": {
    "development_mode": {
     "currentValue": "true",
     "nuid": "1a207d5e-a09b-4d74-93dd-edccc0c0395a",
     "typedWidgetInfo": {
      "autoCreated": false,
      "defaultValue": "true",
      "label": "",
      "name": "development_mode",
      "options": {
       "widgetDisplayType": "Dropdown",
       "choices": [
        "true",
        "false"
       ],
       "fixedDomain": true,
       "multiselect": false
      },
      "parameterDataType": "String"
     },
     "widgetInfo": {
      "widgetType": "dropdown",
      "defaultValue": "true",
      "label": "",
      "name": "development_mode",
      "options": {
       "widgetType": "dropdown",
       "autoCreated": false,
       "choices": [
        "true",
        "false"
       ]
      }
     }
    },
    "job_name": {
     "currentValue": "job_123",
     "nuid": "0416ac02-68d7-4720-93c8-4b8330dd7a57",
     "typedWidgetInfo": {
      "autoCreated": false,
      "defaultValue": "job_123",
      "label": "",
      "name": "job_name",
      "options": {
       "widgetDisplayType": "Text",
       "validationRegex": null
      },
      "parameterDataType": "String"
     },
     "widgetInfo": {
      "widgetType": "text",
      "defaultValue": "job_123",
      "label": "",
      "name": "job_name",
      "options": {
       "widgetType": "text",
       "autoCreated": false,
       "validationRegex": null
      }
     }
    },
    "job_start_timestamp": {
     "currentValue": "",
     "nuid": "59704681-535f-4340-8e55-f1d982f82920",
     "typedWidgetInfo": {
      "autoCreated": false,
      "defaultValue": "",
      "label": "",
      "name": "job_start_timestamp",
      "options": {
       "widgetDisplayType": "Text",
       "validationRegex": null
      },
      "parameterDataType": "String"
     },
     "widgetInfo": {
      "widgetType": "text",
      "defaultValue": "",
      "label": "",
      "name": "job_start_timestamp",
      "options": {
       "widgetType": "text",
       "autoCreated": false,
       "validationRegex": null
      }
     }
    },
    "task_metadata": {
     "currentValue": "",
     "nuid": "f04a26e7-da98-4e82-8479-002f08d9c1ad",
     "typedWidgetInfo": {
      "autoCreated": false,
      "defaultValue": "",
      "label": "",
      "name": "task_metadata",
      "options": {
       "widgetDisplayType": "Text",
       "validationRegex": null
      },
      "parameterDataType": "String"
     },
     "widgetInfo": {
      "widgetType": "text",
      "defaultValue": "",
      "label": "",
      "name": "task_metadata",
      "options": {
       "widgetType": "text",
       "autoCreated": false,
       "validationRegex": null
      }
     }
    },
    "task_name": {
     "currentValue": "",
     "nuid": "af1b3f58-02d4-483d-8b9f-890f10dac765",
     "typedWidgetInfo": {
      "autoCreated": false,
      "defaultValue": "",
      "label": "",
      "name": "task_name",
      "options": {
       "widgetDisplayType": "Text",
       "validationRegex": null
      },
      "parameterDataType": "String"
     },
     "widgetInfo": {
      "widgetType": "text",
      "defaultValue": "",
      "label": "",
      "name": "task_name",
      "options": {
       "widgetType": "text",
       "autoCreated": false,
       "validationRegex": null
      }
     }
    }
   }
  },
  "language_info": {
   "name": "python"
  }
 },
 "nbformat": 4,
 "nbformat_minor": 0
}
