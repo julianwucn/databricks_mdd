{
 "cells": [
  {
   "cell_type": "code",
   "execution_count": 0,
   "metadata": {
    "application/vnd.databricks.v1+cell": {
     "cellMetadata": {
      "byteLimit": 2048000,
      "rowLimit": 10000
     },
     "inputWidgets": {},
     "nuid": "10a093bb-a8c5-4b5f-91f6-71de14a51cf1",
     "showTitle": false,
     "tableResultSettingsMap": {},
     "title": ""
    }
   },
   "outputs": [],
   "source": [
    "%load_ext autoreload\n",
    "%autoreload 2\n",
    "import logging\n",
    "import datetime\n",
    "from mdd.logger import *\n",
    "from mdd.metadata import Metadata\n",
    "from mdd.helper.deltatable import DeltaTableUtils as dtu\n",
    "\n",
    "log_folder = \"mdd_test\"\n",
    "log_file_name = \"test_helper_deltatable\"\n",
    "log_timestamp = datetime.datetime.now()\n",
    "debug = False\n",
    "\n",
    "Logger.init(log_folder, log_file_name, log_timestamp, debug)\n",
    "\n",
    "metadata_yml = \"bronze/bronze_paytronix_mid352_combinedcards.yml\"\n",
    "sink_name = \"bronze.paytronix_mid352_combinedcards\"\n",
    "metadata = Metadata(metadata_yml, True)\n",
    "corrupt_record = metadata.get(\"reader\", \"_corrupt_record\") \n",
    "rescued_data = metadata.get(\"reader\", \"_rescued_data\") \n",
    "dtu.ensure_system_columns(spark, sink_name, corrupt_record, rescued_data, False)"
   ]
  },
  {
   "cell_type": "code",
   "execution_count": 0,
   "metadata": {
    "application/vnd.databricks.v1+cell": {
     "cellMetadata": {
      "byteLimit": 2048000,
      "rowLimit": 10000
     },
     "inputWidgets": {},
     "nuid": "0fb0753e-9461-4b57-8412-c5dc299b0809",
     "showTitle": false,
     "tableResultSettingsMap": {},
     "title": ""
    }
   },
   "outputs": [],
   "source": [
    "%%sql\n",
    "use catalog lakehouse;\n",
    "\n",
    "select * from bronze.paytronix_mid352_combinedcards;"
   ]
  },
  {
   "cell_type": "code",
   "execution_count": 0,
   "metadata": {
    "application/vnd.databricks.v1+cell": {
     "cellMetadata": {
      "byteLimit": 2048000,
      "rowLimit": 10000
     },
     "inputWidgets": {},
     "nuid": "92de55e3-e5fc-4483-a881-e623a6dbd73e",
     "showTitle": false,
     "tableResultSettingsMap": {},
     "title": ""
    }
   },
   "outputs": [],
   "source": [
    "%load_ext autoreload\n",
    "%autoreload 2\n",
    "from mdd.helper.deltatable import DeltaTableUtils as dtu\n",
    "max_source_commit_version = dtu.get_max_column_value(spark,\n",
    "                            \"mdd.table_control\",\n",
    "                            \"source_commit_version\",\n",
    "                            f\"table_name = 'gold.fact_combinedcards' and source_name = 'bronze.paytronix_mid352_combinedcards'\")\n",
    "\n",
    "print(max_source_commit_version)"
   ]
  },
  {
   "cell_type": "code",
   "execution_count": 0,
   "metadata": {
    "application/vnd.databricks.v1+cell": {
     "cellMetadata": {
      "byteLimit": 2048000,
      "rowLimit": 10000
     },
     "inputWidgets": {},
     "nuid": "cfe318b3-69d3-4f2f-9c66-8f7a50c6915d",
     "showTitle": false,
     "tableResultSettingsMap": {},
     "title": ""
    }
   },
   "outputs": [],
   "source": [
    "table_name = \"gold.fact_combinedcards\"\n",
    "dtu.qualify_table_name(table_name)"
   ]
  }
 ],
 "metadata": {
  "application/vnd.databricks.v1+notebook": {
   "computePreferences": null,
   "dashboards": [],
   "environmentMetadata": {
    "base_environment": "",
    "environment_version": "2"
   },
   "inputWidgetPreferences": null,
   "language": "python",
   "notebookMetadata": {
    "pythonIndentUnit": 4
   },
   "notebookName": "test_helper_deltatable",
   "widgets": {}
  },
  "language_info": {
   "name": "python"
  }
 },
 "nbformat": 4,
 "nbformat_minor": 0
}
