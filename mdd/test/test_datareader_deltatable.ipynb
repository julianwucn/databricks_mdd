{
 "cells": [
  {
   "cell_type": "code",
   "execution_count": 0,
   "metadata": {
    "application/vnd.databricks.v1+cell": {
     "cellMetadata": {
      "byteLimit": 2048000,
      "rowLimit": 10000
     },
     "inputWidgets": {},
     "nuid": "aa2cea2e-1a63-45e6-8289-be835ccf4edf",
     "showTitle": false,
     "tableResultSettingsMap": {},
     "title": ""
    }
   },
   "outputs": [],
   "source": [
    "# ------------------------------\n",
    "# Notebook Setup and Logging\n",
    "# ------------------------------\n",
    "\n",
    "%load_ext autoreload\n",
    "%autoreload 2\n",
    "\n",
    "import logging\n",
    "import datetime\n",
    "from mdd.logger import *\n",
    "from mdd.datareader import DeltaTableReader\n",
    "\n",
    "# Initialize logging\n",
    "log_folder = \"mdd_test\"\n",
    "log_file_name = \"test_datareader_deltatable\"\n",
    "log_timestamp = datetime.datetime.now()\n",
    "debug = False\n",
    "\n",
    "Logger.init(log_folder, log_file_name, log_timestamp, debug)\n",
    "\n",
    "# Set the Delta table name to use across all tests\n",
    "source_name = \"bronze.paytronix_mid352_combinedcards\"  # Replace with your actual Delta table name\n"
   ]
  },
  {
   "cell_type": "code",
   "execution_count": 0,
   "metadata": {
    "application/vnd.databricks.v1+cell": {
     "cellMetadata": {
      "byteLimit": 2048000,
      "rowLimit": 10000
     },
     "inputWidgets": {},
     "nuid": "4da744f7-a760-4978-bfb2-b62abf9e26d7",
     "showTitle": false,
     "tableResultSettingsMap": {},
     "title": ""
    }
   },
   "outputs": [],
   "source": [
    "%%sql\n",
    "select _record_timestamp, count(*)\n",
    "from lakehouse.bronze.paytronix_mid352_combinedcards\n",
    "group by _record_timestamp\n",
    "order by _record_timestamp desc;"
   ]
  },
  {
   "cell_type": "code",
   "execution_count": 0,
   "metadata": {
    "application/vnd.databricks.v1+cell": {
     "cellMetadata": {
      "byteLimit": 2048000,
      "rowLimit": 10000
     },
     "inputWidgets": {},
     "nuid": "9e878b7e-c143-4c18-a8b1-5d4961f8dc39",
     "showTitle": false,
     "tableResultSettingsMap": {},
     "title": ""
    }
   },
   "outputs": [],
   "source": [
    "# Test: Full mode with timestamp filter (reads only data after the given timestamp)\n",
    "config = {\n",
    "    \"source_name\": source_name,\n",
    "    \"mode\": \"full\", # full, backfill, incremental\n",
    "    \"full_max_processed_timestamp\": \"2025-05-19 00:00:00\",\n",
    "    \"backfill_days\": None,\n",
    "    \"incremental_max_processed_version\": None\n",
    "}\n",
    "\n",
    "reader = DeltaTableReader(spark=spark, config=config, debug=True)\n",
    "df = reader.read()\n",
    "#df.show()\n",
    "display(df)\n"
   ]
  },
  {
   "cell_type": "code",
   "execution_count": 0,
   "metadata": {
    "application/vnd.databricks.v1+cell": {
     "cellMetadata": {
      "byteLimit": 2048000,
      "rowLimit": 10000
     },
     "inputWidgets": {},
     "nuid": "016c2190-5be6-4f22-a653-d313a94d78a6",
     "showTitle": false,
     "tableResultSettingsMap": {},
     "title": ""
    }
   },
   "outputs": [],
   "source": [
    "# Test: Full mode with no timestamp (reads the entire table)\n",
    "config = {\n",
    "    \"source_name\": source_name,\n",
    "    \"mode\": \"full\", # full, backfill, incremental\n",
    "    \"full_max_processed_timestamp\": None,\n",
    "    \"backfill_days\": None,\n",
    "    \"incremental_max_processed_version\": None\n",
    "}\n",
    "\n",
    "reader = DeltaTableReader(spark=spark, config=config, debug=True)\n",
    "df = reader.read()\n",
    "#df.show()\n",
    "display(df)\n"
   ]
  },
  {
   "cell_type": "code",
   "execution_count": 0,
   "metadata": {
    "application/vnd.databricks.v1+cell": {
     "cellMetadata": {
      "byteLimit": 2048000,
      "rowLimit": 10000
     },
     "inputWidgets": {},
     "nuid": "97f93be2-5dbf-448e-91aa-f45a0e4ce23f",
     "showTitle": false,
     "tableResultSettingsMap": {},
     "title": ""
    }
   },
   "outputs": [],
   "source": [
    "# Test: Backfill mode (reads rows from the last N days)\n",
    "config = {\n",
    "    \"source_name\": source_name,\n",
    "    \"mode\": \"backfill\", # full, backfill, incremental\n",
    "    \"full_max_processed_timestamp\": None,\n",
    "    \"backfill_days\": 7,\n",
    "    \"incremental_max_processed_version\": None\n",
    "}\n",
    "\n",
    "reader = DeltaTableReader(spark=spark, config=config, debug=True)\n",
    "df = reader.read()\n",
    "#df.show()\n",
    "display(df)\n",
    "\n"
   ]
  },
  {
   "cell_type": "code",
   "execution_count": 0,
   "metadata": {
    "application/vnd.databricks.v1+cell": {
     "cellMetadata": {
      "byteLimit": 2048000,
      "rowLimit": 10000
     },
     "inputWidgets": {},
     "nuid": "8927c62e-8deb-4432-b822-3dc97f62685f",
     "showTitle": false,
     "tableResultSettingsMap": {},
     "title": ""
    }
   },
   "outputs": [],
   "source": [
    "# Test: Incremental mode with a valid CDF version (streaming read using Change Data Feed)\n",
    "config = {\n",
    "    \"source_name\": source_name,\n",
    "    \"mode\": \"incremental\", # full, backfill, incremental\n",
    "    \"full_max_processed_timestamp\": None,\n",
    "    \"backfill_days\": None,\n",
    "    \"incremental_max_processed_version\": 0\n",
    "}\n",
    "\n",
    "\n",
    "reader = DeltaTableReader(spark=spark, config=config, debug=True)\n",
    "df = reader.read()\n",
    "display(df)\n"
   ]
  },
  {
   "cell_type": "code",
   "execution_count": 0,
   "metadata": {
    "application/vnd.databricks.v1+cell": {
     "cellMetadata": {
      "byteLimit": 2048000,
      "rowLimit": 10000
     },
     "inputWidgets": {},
     "nuid": "bfb25a42-5b65-4116-9ad3-cbfa24f8e013",
     "showTitle": false,
     "tableResultSettingsMap": {},
     "title": ""
    }
   },
   "outputs": [],
   "source": [
    "# Test: Incremental mode with out-of-range CDF version (falls back to backfill)\n",
    "config = {\n",
    "    \"source_name\": source_name,\n",
    "    \"mode\": \"incremental\", # full, backfill, incremental\n",
    "    \"full_max_processed_timestamp\": None,\n",
    "    \"backfill_days\": 5,\n",
    "    \"incremental_max_processed_version\": -999\n",
    "}\n",
    "\n",
    "reader = DeltaTableReader(spark=spark, config=config, debug=True)\n",
    "df = reader.read()\n",
    "#df.show()\n",
    "display(df)\n"
   ]
  }
 ],
 "metadata": {
  "application/vnd.databricks.v1+notebook": {
   "computePreferences": null,
   "dashboards": [],
   "environmentMetadata": {
    "base_environment": "",
    "environment_version": "2"
   },
   "inputWidgetPreferences": null,
   "language": "python",
   "notebookMetadata": {
    "pythonIndentUnit": 4
   },
   "notebookName": "test_datareader_deltatable",
   "widgets": {}
  },
  "language_info": {
   "name": "python"
  }
 },
 "nbformat": 4,
 "nbformat_minor": 0
}
